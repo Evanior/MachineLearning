{
 "cells": [
  {
   "cell_type": "markdown",
   "metadata": {},
   "source": [
    "# Project DataType\n",
    "\n",
    "Les étapes:\n",
    "\n",
    "- lire le fichier data_for_datatype.txt\n",
    "- extraire les données I/O (documents et classes)\n",
    "- on contrsuit le pipeline\n",
    "    - on va tester pusieurs vectorizers: CountVactorizer, TFIDFVextorizer\n",
    "    - on utilise le Baysian classifier: MultinomialNB\n",
    "- on verifie à l'oeil si cela fonctionne\n",
    "- on fait varirer les hyperparametres pour touver le meilleur score (cross validation score)"
   ]
  },
  {
   "cell_type": "code",
   "execution_count": 46,
   "metadata": {},
   "outputs": [
    {
     "name": "stdout",
     "output_type": "stream",
     "text": [
      "start\n",
      "done\n"
     ]
    }
   ],
   "source": [
    "from sklearn.feature_extraction.text import CountVectorizer\n",
    "from sklearn.feature_extraction.text import TfidfVectorizer\n",
    "\n",
    "NGRAM_RANGE = (1, 3)\n",
    "\n",
    "vectorizer = CountVectorizer(\n",
    "    input=\"content\",\n",
    "    analyzer=\"char\",\n",
    "    ngram_range=NGRAM_RANGE,\n",
    "    stop_words=None,\n",
    "    binary=False\n",
    ")\n",
    "\n",
    "TFIDFVectorizer = TfidfVectorizer(\n",
    "    input=\"content\",\n",
    "    analyzer=\"char\",\n",
    "    ngram_range=NGRAM_RANGE,\n",
    "    stop_words=None,\n",
    "    binary=False\n",
    ")\n",
    "\n",
    "# l'entrée\n",
    "raw_documents_vector = []\n",
    "\n",
    "# la sortie\n",
    "y_vector = []\n",
    "\n",
    "file_name = \"./data_for_datatype.txt\"\n",
    "with open(file_name, \"rt\") as f:\n",
    "    for line in f:\n",
    "        data = line.split(\" \", maxsplit=1)\n",
    "        y = data[0]\n",
    "        raw_document = str(len(data[1])) + \" \" + data[1]\n",
    "        \n",
    "        # je garde les données dans des listes\n",
    "        y_vector.append(y)\n",
    "        raw_documents_vector.append(raw_document)\n",
    "   \n",
    "print(\"start\")\n",
    "vectorizer.fit(raw_documents_vector)\n",
    "#TFIDFVectorizer.fit(raw_documents_vector)\n",
    "print(\"done\")"
   ]
  },
  {
   "cell_type": "code",
   "execution_count": 47,
   "metadata": {},
   "outputs": [
    {
     "data": {
      "text/plain": [
       "['201804']"
      ]
     },
     "execution_count": 47,
     "metadata": {},
     "output_type": "execute_result"
    }
   ],
   "source": [
    "# on verifie le bon fonctionnement\n",
    "tokenizer = vectorizer.build_tokenizer()\n",
    "tokenizer(\"201804\")\n",
    "#tokenizer = TFIDFVectorizer.build_tokenizer()\n",
    "#tokenizer(\"201804\")"
   ]
  },
  {
   "cell_type": "code",
   "execution_count": 49,
   "metadata": {},
   "outputs": [
    {
     "name": "stdout",
     "output_type": "stream",
     "text": [
      "68,\n",
      ".7\n",
      "glo\n",
      "39z\n",
      "eu \n",
      "ye \n",
      "sly\n",
      "nsd\n",
      "18.\n",
      "n i\n",
      "e x\n"
     ]
    }
   ],
   "source": [
    "# on affiche N mots du vocabulaire\n",
    "i_max = 10\n",
    "for i, word in enumerate(vectorizer.vocabulary_.keys()):\n",
    "    if i > i_max:\n",
    "        break\n",
    "    else:\n",
    "        print(word)"
   ]
  },
  {
   "cell_type": "code",
   "execution_count": 57,
   "metadata": {},
   "outputs": [
    {
     "name": "stderr",
     "output_type": "stream",
     "text": [
      "/usr/local/lib/python3.5/dist-packages/sklearn/model_selection/_split.py:2026: FutureWarning: From version 0.21, test_size will always complement train_size unless both are specified.\n",
      "  FutureWarning)\n"
     ]
    },
    {
     "name": "stdout",
     "output_type": "stream",
     "text": [
      "train : 295022\n",
      "test : 73756\n",
      "done\n"
     ]
    },
    {
     "name": "stderr",
     "output_type": "stream",
     "text": [
      "/usr/local/lib/python3.5/dist-packages/sklearn/neighbors/base.py:212: UserWarning: cannot use tree with sparse input: using brute force\n",
      "  warnings.warn(\"cannot use tree with sparse input: \"\n"
     ]
    }
   ],
   "source": [
    "from sklearn.naive_bayes import MultinomialNB\n",
    "from sklearn.neighbors import KNeighborsClassifier\n",
    "from sklearn.model_selection import train_test_split\n",
    "from sklearn.pipeline import Pipeline\n",
    "\n",
    "# on créé une instance du classifier\n",
    "clf = MultinomialNB()\n",
    "#clf = KNeighborsClassifier(algorithm=\"kd_tree\")\n",
    "pipeline_clf = Pipeline(\n",
    "    [\n",
    "        (\"vectorizer\", vectorizer),\n",
    "        (\"clf\", clf)\n",
    "    ]\n",
    ")\n",
    "\n",
    "#pipeline_TFIDF = Pipeline(\n",
    "#    [\n",
    "#        (\"vectorizer\", TFIDFVectorizer),\n",
    "#        (\"clf\", clf)\n",
    "#    ]\n",
    "#)\n",
    "\n",
    "# on divise nos donnée en 2 population: training/test\n",
    "X_train, X_test, Y_train, Y_test = train_test_split(raw_documents_vector, y_vector, train_size=0.8)\n",
    "\n",
    "print(\"train :\", len(Y_train))\n",
    "print(\"test :\", len(Y_test))\n",
    "\n",
    "# on entraine le classifier\n",
    "pipeline_clf.fit(X_train, Y_train)\n",
    "#pipeline_TFIDF.fit(X_train, Y_train)\n",
    "print(\"done\")"
   ]
  },
  {
   "cell_type": "code",
   "execution_count": null,
   "metadata": {},
   "outputs": [
    {
     "name": "stdout",
     "output_type": "stream",
     "text": [
      "start predict\n"
     ]
    }
   ],
   "source": [
    "print(\"start predict\")\n",
    "predicted = pipeline_clf.predict(X_test)\n",
    "#predictedTFIDF = pipeline_TFIDF.predict(X_test)s\n",
    "print(\"done\")"
   ]
  },
  {
   "cell_type": "code",
   "execution_count": null,
   "metadata": {},
   "outputs": [],
   "source": [
    "import numpy as np\n",
    "\n",
    "mean = np.mean(predicted == Y_test)\n",
    "total = len(Y_test)\n",
    "correct_ones = np.sum(predicted == Y_test)\n",
    "print(\"total test :\", total)\n",
    "print(\"correct :\", correct_ones)\n",
    "print(\"proportion :\", mean, float(correct_ones)/total)\n",
    "\n",
    "#mean = np.mean(predictedTFIDF == Y_test)\n",
    "#total = len(Y_test)\n",
    "#correct_ones = np.sum(predictedTFIDF == Y_test)\n",
    "#print(\"total test :\", total)\n",
    "#print(\"correct :\", correct_ones)\n",
    "#print(\"proportion :\", mean, float(correct_ones)/total)"
   ]
  },
  {
   "cell_type": "code",
   "execution_count": null,
   "metadata": {},
   "outputs": [],
   "source": [
    "import json\n",
    "\n",
    "ref = {\n",
    "    \"0\" : \"float\",\n",
    "    \"1\" : \"int\",\n",
    "    \"2\" : \"code postal\",\n",
    "    \"3\" : \"coordonée gps\",\n",
    "    \"4\" : \"adresse\",\n",
    "    \"5\" : \"siret\",\n",
    "    \"6\" : \"année\",\n",
    "    \"7\" : \"date\",\n",
    "    \"8\" : \"siren\",\n",
    "    \"9\" : \"naf\",\n",
    "    \"10\" : \"autre\",\n",
    "    \"11\" : \"téléphone\",\n",
    "}\n",
    "\n",
    "for i in np.where(predicted != Y_test)[0]:\n",
    "    print(i, X_test[i], ref[str(pipeline_clf.predict([X_test[i]])[0])], ref[str(Y_test[i])])"
   ]
  },
  {
   "cell_type": "code",
   "execution_count": null,
   "metadata": {},
   "outputs": [],
   "source": [
    "text = input(\"saisissez du text : \")\n",
    "lang = pipeline_clf.predict([text])\n",
    "print(lang)"
   ]
  },
  {
   "cell_type": "code",
   "execution_count": null,
   "metadata": {},
   "outputs": [],
   "source": []
  }
 ],
 "metadata": {
  "kernelspec": {
   "display_name": "Python 3",
   "language": "python",
   "name": "python3"
  },
  "language_info": {
   "codemirror_mode": {
    "name": "ipython",
    "version": 3
   },
   "file_extension": ".py",
   "mimetype": "text/x-python",
   "name": "python",
   "nbconvert_exporter": "python",
   "pygments_lexer": "ipython3",
   "version": "3.5.3"
  }
 },
 "nbformat": 4,
 "nbformat_minor": 2
}
