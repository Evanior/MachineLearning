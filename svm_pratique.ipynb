{
 "cells": [
  {
   "cell_type": "markdown",
   "metadata": {},
   "source": [
    "# SVM en pratique\n",
    "\n",
    "On compare l'algorithme SVM au NaiveBayes sur les jeux de données:\n",
    "\n",
    "- detection de langue\n",
    "- data type\n",
    "- iris (voir dans le dépôt MachineLearning: https://github.com/Evanior/MachineLearning)\n"
   ]
  },
  {
   "cell_type": "code",
   "execution_count": 2,
   "metadata": {},
   "outputs": [],
   "source": [
    "from sklearn.svm import NuSVC\n"
   ]
  },
  {
   "cell_type": "code",
   "execution_count": 3,
   "metadata": {},
   "outputs": [
    {
     "name": "stdout",
     "output_type": "stream",
     "text": [
      "368778 samples\n"
     ]
    }
   ],
   "source": [
    "# On importe les données pour le projet \"Data Type\"\n",
    "from sklearn.feature_extraction.text import CountVectorizer, TfidfVectorizer\n",
    "from sklearn.naive_bayes import MultinomialNB\n",
    "from sklearn.pipeline import Pipeline\n",
    "from sklearn.model_selection import train_test_split\n",
    "from sklearn.model_selection import cross_val_score\n",
    "\n",
    "ref = {\n",
    "    \"0\": \"float\",\n",
    "    \"1\": \"int\",\n",
    "    \"2\": \"Code postal\",\n",
    "    \"3\": \"Coordonnées GPS\",\n",
    "    \"4\": \"Adresse\",\n",
    "    \"5\": \"SIRET\",\n",
    "    \"6\": \"Année\",\n",
    "    \"7\": \"Date\",\n",
    "    \"8\": \"SIREN\",\n",
    "    \"9\": \"Code NAF\",\n",
    "    \"10\": \"Autre\",\n",
    "    \"11\": \"Telephone\",\n",
    "}\n",
    "\n",
    "y_vector = []\n",
    "raw_documents_vector = []\n",
    "\n",
    "file_name = \"../../all_data/data_for_project_datatype.txt\"\n",
    "with open(file_name, \"rt\") as f:\n",
    "    for i,line in enumerate(f):\n",
    "        data = line.split(\" \", maxsplit=1)\n",
    "        y = data[0]\n",
    "        text = data[1].strip()\n",
    "        raw_document = str(len(text)) + \" \" + text\n",
    "        if y != \"\" and raw_document != \"\":\n",
    "            y_vector.append(y)\n",
    "            raw_documents_vector.append(raw_document)\n",
    "\n",
    "N_SAMPLES = len(y_vector)\n",
    "print(N_SAMPLES, \"samples\")"
   ]
  },
  {
   "cell_type": "code",
   "execution_count": 4,
   "metadata": {},
   "outputs": [],
   "source": [
    "# on construit le pipeline\n",
    "NGRAM_RANGE = (1, 3)\n",
    "\n",
    "count_vectorizer = CountVectorizer(\n",
    "    input=\"content\", \n",
    "    analyzer=\"char_wb\", \n",
    "    ngram_range=NGRAM_RANGE, \n",
    "    stop_words=None,\n",
    "    binary=True)"
   ]
  },
  {
   "cell_type": "code",
   "execution_count": 5,
   "metadata": {},
   "outputs": [],
   "source": [
    "# on prépare les données d'entrainement et de test\n",
    "X_train, X_test, Y_train, Y_test =  train_test_split(\n",
    "    raw_documents_vector, \n",
    "    y_vector, \n",
    "    shuffle=True, \n",
    "    test_size=0.3, \n",
    "    train_size=None)"
   ]
  },
  {
   "cell_type": "code",
   "execution_count": 6,
   "metadata": {},
   "outputs": [
    {
     "name": "stdout",
     "output_type": "stream",
     "text": [
      "pipeline 0\n",
      "start training\n",
      "training done !\n",
      "duration 21 secondes\n",
      "correct ones 110434\n",
      "false ones 200\n",
      "ratio: 0.9981922374676863\n",
      "pipeline 1\n",
      "start training\n",
      "training done !\n",
      "duration 39 secondes\n",
      "correct ones 110616\n",
      "false ones 18\n",
      "ratio: 0.9998373013720918\n"
     ]
    }
   ],
   "source": [
    "# On compare NuSVC au naive bayes\n",
    "from sklearn.svm import NuSVC, SVC, LinearSVC\n",
    "from datetime import datetime\n",
    "import numpy as np\n",
    "\n",
    "# on construit le classifier SVM lineaire\n",
    "svc_classifier = LinearSVC()\n",
    "\n",
    "# on définit les pipelines qu'on veut comparer\n",
    "pipelines = [\n",
    "    Pipeline([(\"vectorizer\", count_vectorizer), (\"classifier\", MultinomialNB())]),\n",
    "    Pipeline([(\"vectorizer\", count_vectorizer), (\"classifier\", svc_classifier)])\n",
    "]\n",
    "\n",
    "for i, pipeline in enumerate(pipelines):\n",
    "    start = datetime.now()\n",
    "    print(\"pipeline\", i)\n",
    "    print(\"start training\")\n",
    "    pipeline.fit(X_train, Y_train)\n",
    "    print(\"training done !\")\n",
    "    print(\"duration\", (datetime.now() - start).seconds, \"secondes\")\n",
    "    \n",
    "    # on prédit sur l'échantillon de test\n",
    "    predicted = pipeline.predict(X_test)\n",
    "    \n",
    "    # on affiche les résultats\n",
    "    print(\"correct ones\", np.sum(predicted == Y_test))\n",
    "    print(\"false ones\", np.sum(predicted != Y_test))\n",
    "    print(\"ratio:\", np.mean(predicted == Y_test))\n"
   ]
  },
  {
   "cell_type": "markdown",
   "metadata": {},
   "source": [
    "## On teste avec la détection de langue"
   ]
  },
  {
   "cell_type": "code",
   "execution_count": 7,
   "metadata": {},
   "outputs": [
    {
     "name": "stdout",
     "output_type": "stream",
     "text": [
      "samples 12915\n"
     ]
    }
   ],
   "source": [
    "# on charge les données\n",
    "from sklearn.feature_extraction.text import CountVectorizer\n",
    "\n",
    "# l'entée\n",
    "raw_documents_vector = []\n",
    "# la sortie:\n",
    "y_vector = []\n",
    "\n",
    "with open(\"data.txt\", \"rt\", encoding=\"utf8\") as f:\n",
    "    for line in f:\n",
    "        y = line[0:1]\n",
    "        doc = line[2:]\n",
    "        y_vector.append(y)\n",
    "        raw_documents_vector.append(doc)\n",
    "\n",
    "print(\"samples\", len(y_vector))       \n"
   ]
  },
  {
   "cell_type": "code",
   "execution_count": 8,
   "metadata": {},
   "outputs": [],
   "source": [
    "X_train, X_test, Y_train, Y_test = train_test_split(\n",
    "    raw_documents_vector, y_vector, test_size=0.3, train_size=None)\n"
   ]
  },
  {
   "cell_type": "code",
   "execution_count": null,
   "metadata": {},
   "outputs": [
    {
     "name": "stdout",
     "output_type": "stream",
     "text": [
      "pipeline 0\n",
      "start training\n",
      "duration 136 secondes\n",
      "correct ones 3860\n",
      "false ones 15\n",
      "ratio: 0.9961290322580645\n",
      "pipeline 1\n",
      "start training\n",
      "duration 141 secondes\n"
     ]
    }
   ],
   "source": [
    "NGRAM_RANGE = (1, 2)\n",
    "\n",
    "vectorizer = CountVectorizer(\n",
    "    input=\"content\", \n",
    "    analyzer=\"word\", \n",
    "    ngram_range=NGRAM_RANGE,\n",
    "    stop_words=None,\n",
    "    binary=True\n",
    ")\n",
    "\n",
    "clf_nb = MultinomialNB()\n",
    "clf_svm = LinearSVC()\n",
    "\n",
    "pipelines = [\n",
    "    Pipeline([(\"vectorizer\", vectorizer), (\"multinomial naive bayes\", clf_nb)]),\n",
    "    Pipeline([(\"vectorizer\", vectorizer), (\"Linear SVM\", clf_svm)]),\n",
    "]\n",
    "\n",
    "for i,pipeline in enumerate(pipelines):\n",
    "    start = datetime.now()\n",
    "    print(\"pipeline\", i)\n",
    "    print(\"start training\")\n",
    "    pipeline.fit(X_train, Y_train)\n",
    "    print(\"duration\", (datetime.now() - start).seconds, \"secondes\")\n",
    "    # on prédit sur l'échantillon de test\n",
    "    predicted = pipeline.predict(X_test)\n",
    "    \n",
    "    # on affiche les résultats\n",
    "    print(\"correct ones\", np.sum(predicted == Y_test))\n",
    "    print(\"false ones\", np.sum(predicted != Y_test))\n",
    "    print(\"ratio:\", np.mean(predicted == Y_test))\n",
    "    "
   ]
  },
  {
   "cell_type": "code",
   "execution_count": null,
   "metadata": {},
   "outputs": [],
   "source": []
  },
  {
   "cell_type": "markdown",
   "metadata": {},
   "source": [
    "## Autre jeu de données: les iris (les fleurs)\n",
    "\n",
    "3 espèces et 4 dimensions."
   ]
  },
  {
   "cell_type": "code",
   "execution_count": null,
   "metadata": {},
   "outputs": [],
   "source": [
    "import pandas as pd\n",
    "\n",
    "df = pd.read_csv(\"../../all_data/iris.csv\")\n",
    "df.head()"
   ]
  },
  {
   "cell_type": "code",
   "execution_count": null,
   "metadata": {},
   "outputs": [],
   "source": [
    "df[\"species\"].unique()"
   ]
  },
  {
   "cell_type": "code",
   "execution_count": null,
   "metadata": {},
   "outputs": [],
   "source": [
    "import seaborn as sn"
   ]
  },
  {
   "cell_type": "code",
   "execution_count": null,
   "metadata": {},
   "outputs": [],
   "source": [
    "sn.pairplot(data=df, hue=\"species\", diag_kind=\"hist\")"
   ]
  },
  {
   "cell_type": "code",
   "execution_count": null,
   "metadata": {},
   "outputs": [],
   "source": [
    "# on ne considère que 2 dimensions: petal length et petal width\n",
    "data = df[[\"petal_length\", \"petal_width\", \"species\"]]\n",
    "# on garde uniquement versicolor et setosa\n",
    "data = data.loc[data[\"species\"] != \"virginica\"]\n"
   ]
  },
  {
   "cell_type": "code",
   "execution_count": null,
   "metadata": {},
   "outputs": [],
   "source": [
    "sn.pairplot(data, hue=\"species\")"
   ]
  },
  {
   "cell_type": "code",
   "execution_count": null,
   "metadata": {},
   "outputs": [],
   "source": [
    "# on divise l'échantillon\n",
    "X_train, X_test, Y_train, Y_test = train_test_split(\n",
    "    data[[\"petal_length\", \"petal_width\"]], data[\"species\"], \n",
    "    shuffle=True, test_size=0.3, train_size=None)\n",
    "\n",
    "print(\"train\", X_train.size)\n",
    "print(\"test\", X_test.size)\n",
    "data.head()"
   ]
  },
  {
   "cell_type": "code",
   "execution_count": null,
   "metadata": {},
   "outputs": [],
   "source": [
    "from mlxtend.plotting import plot_decision_regions\n",
    "import matplotlib.pyplot as plt\n",
    "\n",
    "# on test le naive bayes et les différents SVM\n",
    "from sklearn.neighbors import KNeighborsClassifier\n",
    "pipelines = [\n",
    "    Pipeline([(\"Naive Bayes\", MultinomialNB())]), \n",
    "    Pipeline([(\"Linear SVC\", LinearSVC())]),\n",
    "    Pipeline([(\"KNN\", KNeighborsClassifier(n_neighbors=5, algorithm=\"kd_tree\"))]),\n",
    "]\n",
    "\n",
    "# on convertit la \"DataFrame\" de pandas en numpy Array\n",
    "X = data[[\"petal_length\", \"petal_width\"]].values\n",
    "Y = data[\"species\"].values\n",
    "Y_as_int = np.empty(shape=Y.shape, dtype=int)\n",
    "# on convertit les classes en entiers: \"setosa\" -> 0, \"versicolor\" -> 1\n",
    "for i,value in enumerate(Y):\n",
    "    Y_as_int[i] = 0 if Y[i] == \"setosa\" else 1\n",
    "    \n",
    "for i,pipeline in enumerate(pipelines):\n",
    "    print(\"-\"*50)\n",
    "    start = datetime.now()\n",
    "    print(\"pipeline\", pipeline.steps[0][0])\n",
    "    print(\"start training\")\n",
    "    pipeline.fit(X_train, Y_train)\n",
    "    print(\"duration\", (datetime.now() - start).seconds, \"secondes\")\n",
    "    # on prédit sur l'échantillon de test\n",
    "    predicted = pipeline.predict(X_test)\n",
    "    \n",
    "    # on affiche les résultats\n",
    "    print(\"correct ones\", np.sum(predicted == Y_test))\n",
    "    print(\"false ones\", np.sum(predicted != Y_test))\n",
    "    print(\"ratio:\", np.mean(predicted == Y_test))\n",
    "    \n",
    "    clf = pipeline.steps[0][1]\n",
    "    print(clf)\n",
    "    fig = plt.figure()\n",
    "    pipeline.fit(X, Y_as_int)\n",
    "    plot_decision_regions(X=X, y=Y_as_int, clf=clf, legend=2)\n"
   ]
  },
  {
   "cell_type": "code",
   "execution_count": null,
   "metadata": {},
   "outputs": [],
   "source": []
  },
  {
   "cell_type": "code",
   "execution_count": null,
   "metadata": {},
   "outputs": [],
   "source": []
  }
 ],
 "metadata": {
  "kernelspec": {
   "display_name": "Python 3",
   "language": "python",
   "name": "python3"
  },
  "language_info": {
   "codemirror_mode": {
    "name": "ipython",
    "version": 3
   },
   "file_extension": ".py",
   "mimetype": "text/x-python",
   "name": "python",
   "nbconvert_exporter": "python",
   "pygments_lexer": "ipython3",
   "version": "3.6.3"
  }
 },
 "nbformat": 4,
 "nbformat_minor": 2
}
