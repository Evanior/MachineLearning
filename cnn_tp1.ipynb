{
 "cells": [
  {
   "cell_type": "markdown",
   "metadata": {},
   "source": [
    "# CNN TP1\n",
    "\n",
    "- MNIST dataset\n",
    "- Comparer DNN (MLP de sklearn) et CNN (\"Sequential\" de Keras)."
   ]
  },
  {
   "cell_type": "code",
   "execution_count": 1,
   "metadata": {},
   "outputs": [],
   "source": [
    "import matplotlib.pyplot as plt\n",
    "import numpy as np\n",
    "from sklearn.datasets import fetch_mldata\n",
    "from sklearn.neural_network import MLPClassifier\n",
    "\n",
    "mnist = fetch_mldata(\"MNIST original\")"
   ]
  },
  {
   "cell_type": "code",
   "execution_count": 2,
   "metadata": {},
   "outputs": [],
   "source": [
    "X, Y = mnist.data / 255.0, mnist.target"
   ]
  },
  {
   "cell_type": "code",
   "execution_count": 3,
   "metadata": {},
   "outputs": [
    {
     "name": "stdout",
     "output_type": "stream",
     "text": [
      "X shape (70000, 784)\n",
      "Y (70000,)\n",
      "image size: 28\n"
     ]
    }
   ],
   "source": [
    "print(\"X shape\", X.shape)\n",
    "print(\"Y\", Y.shape)\n",
    "print(\"image size:\", int(np.sqrt(784)))"
   ]
  },
  {
   "cell_type": "code",
   "execution_count": 26,
   "metadata": {},
   "outputs": [
    {
     "name": "stdout",
     "output_type": "stream",
     "text": [
      "train shape (49000, 784)\n",
      "train 49000\n",
      "test 21000\n"
     ]
    }
   ],
   "source": [
    "from sklearn.model_selection import train_test_split\n",
    "\n",
    "X_train, X_test, Y_train, Y_test = train_test_split(\n",
    "    X, Y,\n",
    "    shuffle=True,\n",
    "    test_size=0.3\n",
    ")\n",
    "\n",
    "print(\"train shape\", X_train.shape)\n",
    "print(\"train\", X_train.shape[0])\n",
    "print(\"test\", X_test.shape[0])"
   ]
  },
  {
   "cell_type": "code",
   "execution_count": 5,
   "metadata": {},
   "outputs": [],
   "source": [
    "from sklearn.svm import SVC, LinearSVC\n",
    "from sklearn.neighbors import KNeighborsClassifier\n",
    "from sklearn.neural_network import MLPClassifier\n",
    "from sklearn.naive_bayes import GaussianNB, MultinomialNB"
   ]
  },
  {
   "cell_type": "code",
   "execution_count": 6,
   "metadata": {},
   "outputs": [
    {
     "name": "stdout",
     "output_type": "stream",
     "text": [
      "GaussianNB           score = 0.5477142857142857, 0.5486530612244898\n",
      "GaussianNB           score = 0.8221904761904761, 0.8265714285714286\n",
      "SVM linear           score = 0.9098571428571428, 0.9299795918367347\n"
     ]
    },
    {
     "name": "stderr",
     "output_type": "stream",
     "text": [
      "/home/jbjuin/.local/share/virtualenvs/cours-pWOZq47j/lib/python3.6/site-packages/sklearn/neural_network/multilayer_perceptron.py:564: ConvergenceWarning: Stochastic Optimizer: Maximum iterations (200) reached and the optimization hasn't converged yet.\n",
      "  % self.max_iter, ConvergenceWarning)\n"
     ]
    },
    {
     "name": "stdout",
     "output_type": "stream",
     "text": [
      "MLP SGD 20           score = 0.9498095238095238, 0.9596326530612245\n"
     ]
    }
   ],
   "source": [
    "clfs = [\n",
    "    (\"GaussianNB\", GaussianNB()),\n",
    "    (\"MultinomialNB\", MultinomialNB()),\n",
    "    # (\"SVM rbf\", SVC(kernel=\"rbf\")),\n",
    "    (\"SVM linear\", LinearSVC()),\n",
    "    # (\"kNN 3\", KNeighborsClassifier(n_neighbors=3)),\n",
    "    (\"MLP SGD 20\", MLPClassifier(hidden_layer_sizes=(20,), activation=\"relu\",solver=\"sgd\")),\n",
    "    # (\"MLP Adam 20\", MLPClassifier(hidden_layer_sizes=(20,), activation=\"relu\",solver=\"adam\")),\n",
    "]\n",
    "\n",
    "for name, clf in clfs:\n",
    "    clf.fit(X_train, Y_train)\n",
    "    score = clf.score(X_test, Y_test)\n",
    "    score_train = clf.score(X_train, Y_train)\n",
    "    print(f\"{name:20} score = {score}, {score_train}\")"
   ]
  },
  {
   "cell_type": "code",
   "execution_count": 9,
   "metadata": {},
   "outputs": [
    {
     "name": "stdout",
     "output_type": "stream",
     "text": [
      "(784,)\n"
     ]
    },
    {
     "data": {
      "image/png": "[encoded data removed]",
      "text/plain": [
       "<Figure size 432x288 with 1 Axes>"
      ]
     },
     "metadata": {},
     "output_type": "display_data"
    },
    {
     "data": {
      "image/png": "[encoded data removed]",
      "text/plain": [
       "<Figure size 432x288 with 1 Axes>"
      ]
     },
     "metadata": {},
     "output_type": "display_data"
    },
    {
     "data": {
      "image/png": "[encoded data removed]",
      "text/plain": [
       "<Figure size 432x288 with 1 Axes>"
      ]
     },
     "metadata": {},
     "output_type": "display_data"
    }
   ],
   "source": [
    "print(X[0, :].shape)\n",
    "plt.imshow(X[20000, :].reshape(28,28))\n",
    "plt.show()\n",
    "plt.imshow(X[30001, :].reshape(28,28))\n",
    "plt.show()\n",
    "plt.imshow(X[60001, :].reshape(28,28))\n",
    "plt.show()\n"
   ]
  },
  {
   "cell_type": "code",
   "execution_count": 11,
   "metadata": {},
   "outputs": [],
   "source": [
    "img_rows, img_cols = 28, 28\n",
    "batch_size = 1\n",
    "num_channels = 1\n",
    "data_format = \"channels_last\"\n",
    "input_shape = (img_rows, img_cols, num_channels)\n",
    "num_classes = 10"
   ]
  },
  {
   "cell_type": "code",
   "execution_count": 31,
   "metadata": {},
   "outputs": [
    {
     "name": "stdout",
     "output_type": "stream",
     "text": [
      "train shape (49000, 784)\n",
      "train 49000\n",
      "test 21000\n"
     ]
    }
   ],
   "source": [
    "from sklearn.model_selection import train_test_split\n",
    "\n",
    "X_train, X_test, Y_train, Y_test = train_test_split(\n",
    "    X, Y,\n",
    "    shuffle=True,\n",
    "    test_size=0.3\n",
    ")\n",
    "\n",
    "print(\"train shape\", X_train.shape)\n",
    "print(\"train\", X_train.shape[0])\n",
    "print(\"test\", X_test.shape[0])"
   ]
  },
  {
   "cell_type": "code",
   "execution_count": 32,
   "metadata": {},
   "outputs": [
    {
     "name": "stdout",
     "output_type": "stream",
     "text": [
      "(21000, 28, 28, 1) (49000, 28, 28, 1)\n"
     ]
    }
   ],
   "source": [
    "# X_train_copy = np.copy(X_train)\n",
    "# X_test_copy = np.copy(X_test)\n",
    "# Y_train_copy = np.copy(Y_train)\n",
    "# Y_test_copy = np.copy(Y_test)\n",
    "\n",
    "# on reforme les données en array 2D et non plus en 1D\n",
    "X_train = X_train.reshape(X_train.shape[0], img_rows, img_cols, num_channels)\n",
    "X_test = X_test.reshape(X_test.shape[0], img_rows, img_cols, num_channels)\n",
    "print(X_test.shape, X_train.shape)\n",
    "\n",
    "# on reshare les sorties qui sont les chiffres: 0, 1...9\n",
    "# en vecteur binaire de longueur 10:\n",
    "# 0 -> 1 0 0 0 0 0 0 0 0 0 \n",
    "# 1 -> 0 1 0 0 0 0 0 0 0 0\n",
    "# etc.\n",
    "Y_train = keras.utils.to_categorical(Y_train, num_classes)\n",
    "Y_test = keras.utils.to_categorical(Y_test, num_classes)"
   ]
  },
  {
   "cell_type": "code",
   "execution_count": 36,
   "metadata": {},
   "outputs": [
    {
     "data": {
      "image/png": "[encoded data removed]",
      "text/plain": [
       "<Figure size 432x288 with 1 Axes>"
      ]
     },
     "metadata": {},
     "output_type": "display_data"
    }
   ],
   "source": [
    "plt.figure()\n",
    "plt.imshow(X_train[0,:,:,0])\n",
    "plt.title(Y_train[0, :])\n",
    "plt.show()"
   ]
  },
  {
   "cell_type": "code",
   "execution_count": 48,
   "metadata": {},
   "outputs": [
    {
     "name": "stdout",
     "output_type": "stream",
     "text": [
      "done\n"
     ]
    }
   ],
   "source": [
    "import keras\n",
    "from keras.models import Sequential\n",
    "from keras.layers import Dense, Activation\n",
    "from keras.layers import Conv2D, MaxPooling2D, Flatten\n",
    "\n",
    "# KERAS CNN: \n",
    "input_layer = Conv2D(filters=32, \n",
    "                     kernel_size=(3, 3), \n",
    "                     input_shape=input_shape, \n",
    "                     data_format=data_format, \n",
    "                     padding=\"same\",\n",
    "                     activation=\"relu\")\n",
    "model = Sequential()\n",
    "model.add(input_layer)\n",
    "# image 28x28\n",
    "model.add(MaxPooling2D(pool_size=(2, 2)))\n",
    "# image 14x14\n",
    "model.add(Conv2D(64, kernel_size=(3, 3), input_shape=input_shape, activation=\"relu\", padding=\"same\"))\n",
    "# image 14x14\n",
    "model.add(MaxPooling2D(pool_size=(2, 2)))\n",
    "# image 7x7\n",
    "model.add(Flatten())\n",
    "model.add(Dense(20, activation='relu'))\n",
    "model.add(Dense(num_classes, activation='softmax'))\n",
    "print(\"done\")"
   ]
  },
  {
   "cell_type": "code",
   "execution_count": 49,
   "metadata": {},
   "outputs": [
    {
     "name": "stdout",
     "output_type": "stream",
     "text": [
      "start compile\n",
      "done\n"
     ]
    }
   ],
   "source": [
    "print(\"start compile\")\n",
    "from keras import optimizers\n",
    "sgd = optimizers.SGD(lr=0.01, decay=1e-6, momentum=0.9, nesterov=True)\n",
    "model.compile(loss=keras.losses.mean_squared_error,\n",
    "              optimizer=sgd,\n",
    "              metrics=['mae'])\n",
    "print(\"done\")"
   ]
  },
  {
   "cell_type": "code",
   "execution_count": 50,
   "metadata": {},
   "outputs": [
    {
     "name": "stdout",
     "output_type": "stream",
     "text": [
      "(21000, 28, 28, 1)\n",
      "(21000, 10)\n",
      "start fit\n",
      "Train on 49000 samples, validate on 21000 samples\n",
      "Epoch 1/1\n",
      "49000/49000 [==============================] - 630s 13ms/step - loss: 0.0101 - mean_absolute_error: 0.0207 - val_loss: 0.0042 - val_mean_absolute_error: 0.0091\n",
      "done\n"
     ]
    }
   ],
   "source": [
    "print(X_test.shape)\n",
    "print(Y_test.shape)\n",
    "print(\"start fit\")\n",
    "model.fit(X_train, Y_train,\n",
    "          batch_size=batch_size,\n",
    "          epochs=1,\n",
    "          verbose=1,\n",
    "          validation_data=(X_test, Y_test))\n",
    "print(\"done\")"
   ]
  },
  {
   "cell_type": "markdown",
   "metadata": {},
   "source": [
    "## Visu\n",
    "\n",
    "Pour visualiser les filtres: \n",
    "\n",
    "https://raghakot.github.io/keras-vis/\n",
    "\n",
    "```\n",
    "pip install keras-vis\n",
    "```"
   ]
  },
  {
   "cell_type": "code",
   "execution_count": 46,
   "metadata": {},
   "outputs": [
    {
     "name": "stdout",
     "output_type": "stream",
     "text": [
      "score 0.9683333333333334\n",
      "score train 0.9744693877551021\n"
     ]
    }
   ],
   "source": [
    "Y_predicted = model.predict(X_test)\n",
    "score = np.mean(Y_predicted.argmax(axis=1) == Y_test.argmax(axis=1))\n",
    "print(\"score\", score)\n",
    "Y_train_predicted = model.predict(X_train)\n",
    "score_train = np.mean(Y_train_predicted.argmax(axis=1) == Y_train.argmax(axis=1))\n",
    "print(\"score train\", score_train)"
   ]
  },
  {
   "cell_type": "code",
   "execution_count": null,
   "metadata": {},
   "outputs": [],
   "source": []
  },
  {
   "cell_type": "code",
   "execution_count": null,
   "metadata": {},
   "outputs": [],
   "source": []
  },
  {
   "cell_type": "code",
   "execution_count": null,
   "metadata": {},
   "outputs": [],
   "source": []
  },
  {
   "cell_type": "code",
   "execution_count": null,
   "metadata": {},
   "outputs": [],
   "source": []
  },
  {
   "cell_type": "code",
   "execution_count": null,
   "metadata": {},
   "outputs": [],
   "source": []
  },
  {
   "cell_type": "code",
   "execution_count": null,
   "metadata": {},
   "outputs": [],
   "source": []
  },
  {
   "cell_type": "code",
   "execution_count": null,
   "metadata": {},
   "outputs": [],
   "source": []
  },
  {
   "cell_type": "code",
   "execution_count": null,
   "metadata": {},
   "outputs": [],
   "source": []
  },
  {
   "cell_type": "code",
   "execution_count": null,
   "metadata": {},
   "outputs": [],
   "source": [
    "model = Sequential()\n",
    "model.add(Conv2D(32, kernel_size=(5, 5), strides=(1, 1),\n",
    "                 activation='relu',\n",
    "                 input_shape=input_shape))\n",
    "model.add(MaxPooling2D(pool_size=(2, 2), strides=(2, 2)))\n",
    "model.add(Conv2D(64, (5, 5), activation='relu'))\n",
    "model.add(MaxPooling2D(pool_size=(2, 2)))\n",
    "model.add(Flatten())\n",
    "model.add(Dense(1000, activation='relu'))\n",
    "model.add(Dense(num_classes, activation='softmax'))"
   ]
  },
  {
   "cell_type": "code",
   "execution_count": null,
   "metadata": {},
   "outputs": [],
   "source": []
  },
  {
   "cell_type": "code",
   "execution_count": null,
   "metadata": {},
   "outputs": [],
   "source": []
  },
  {
   "cell_type": "code",
   "execution_count": null,
   "metadata": {},
   "outputs": [],
   "source": []
  },
  {
   "cell_type": "code",
   "execution_count": null,
   "metadata": {},
   "outputs": [],
   "source": []
  }
 ],
 "metadata": {
  "kernelspec": {
   "display_name": "Python 3",
   "language": "python",
   "name": "python3"
  },
  "language_info": {
   "codemirror_mode": {
    "name": "ipython",
    "version": 3
   },
   "file_extension": ".py",
   "mimetype": "text/x-python",
   "name": "python",
   "nbconvert_exporter": "python",
   "pygments_lexer": "ipython3",
   "version": "3.6.3"
  }
 },
 "nbformat": 4,
 "nbformat_minor": 2
}
