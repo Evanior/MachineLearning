{
 "cells": [
  {
   "cell_type": "code",
   "execution_count": 4,
   "metadata": {},
   "outputs": [],
   "source": [
    "import matplotlib.pyplot as plt\n",
    "import numpy as np\n",
    "from sklearn.datasets import fetch_mldata\n",
    "from sklearn.neural_network import MLPClassifier\n",
    "\n",
    "mnist = fetch_mldata(\"MNIST original\")\n",
    "X, Y = mnist.data / 255.0, mnist.target"
   ]
  },
  {
   "cell_type": "code",
   "execution_count": 3,
   "metadata": {},
   "outputs": [
    {
     "name": "stdout",
     "output_type": "stream",
     "text": [
      "X (70000, 784)\n",
      "Y (70000,)\n"
     ]
    }
   ],
   "source": [
    "X, Y = mnist.data / 255.0, mnist.target\n",
    "print(\"X\", X.shape)\n",
    "print(\"Y\", Y.shape)"
   ]
  },
  {
   "cell_type": "code",
   "execution_count": null,
   "metadata": {},
   "outputs": [
    {
     "name": "stdout",
     "output_type": "stream",
     "text": [
      "train (56000, 784)\n",
      "test (14000, 784)\n",
      "--------------------------------------------------\n",
      "pipeline Naive Bayes Gaussian\n",
      "start training\n",
      "duration 1 secondes\n",
      "ratio: 0.5613571428571429\n",
      "--------------------------------------------------\n",
      "pipeline Linear SVC\n",
      "start training\n"
     ]
    }
   ],
   "source": [
    "from sklearn.feature_extraction.text import CountVectorizer, TfidfVectorizer\n",
    "from sklearn.naive_bayes import MultinomialNB, GaussianNB\n",
    "from sklearn.pipeline import Pipeline\n",
    "from sklearn.model_selection import train_test_split\n",
    "from sklearn.model_selection import cross_val_score\n",
    "from sklearn.svm import NuSVC, SVC, LinearSVC\n",
    "from sklearn.neural_network import MLPClassifier\n",
    "from datetime import datetime\n",
    "\n",
    "from mlxtend.plotting import plot_decision_regions\n",
    "import matplotlib.pyplot as plt\n",
    "\n",
    "# on test le naive bayes et les différents SVM\n",
    "from sklearn.neighbors import KNeighborsClassifier\n",
    "from sklearn.naive_bayes import GaussianNB\n",
    "\n",
    "#pca_2d = PCA(n_components=2)\n",
    "\n",
    "pipelines = [\n",
    "    # Pipeline([(\"PCA 2D\", pca_2d), (\"Naive Bayes Multinomial\", MultinomialNB())]), \n",
    "    Pipeline([(\"Naive Bayes Gaussian\", GaussianNB())]), \n",
    "    Pipeline([(\"Linear SVC\", LinearSVC())]),\n",
    "    #Pipeline([(\"SVC kernel rbf\", SVC(kernel=\"rbf\"))]),\n",
    "    #Pipeline([(\"SVC kernel poly d=1\", SVC(kernel=\"poly\", degree=1))]),\n",
    "    #Pipeline([(\"SVC kernel poly d=2\", SVC(kernel=\"poly\", degree=2))]),\n",
    "    #Pipeline([(\"KNN\", KNeighborsClassifier(n_neighbors=5, algorithm=\"kd_tree\"))]),\n",
    "    Pipeline([(\"MLP\", \n",
    "            MLPClassifier(hidden_layer_sizes=(10,), \n",
    "            activation=\"relu\", \n",
    "            solver=\"lbfgs\", \n",
    "            verbose=True))]),\n",
    "]\n",
    "\n",
    "# on divise l'échantillon\n",
    "X_train, X_test, Y_train, Y_test = train_test_split(\n",
    "    X, Y, \n",
    "    shuffle=True, test_size=0.2, train_size=None)\n",
    "\n",
    "print(\"train\", X_train.shape)\n",
    "print(\"test\", X_test.shape)\n",
    "    \n",
    "for i,pipeline in enumerate(pipelines):\n",
    "    print(\"-\"*50)\n",
    "    start = datetime.now()\n",
    "    pipeline_name = pipeline.steps[0][0]\n",
    "    print(\"pipeline\", pipeline_name)\n",
    "    print(\"start training\")\n",
    "    pipeline.fit(X_train, Y_train)\n",
    "    print(\"duration\", (datetime.now() - start).seconds, \"secondes\")\n",
    "    # on prédit sur l'échantillon de test\n",
    "    predicted = pipeline.predict(X_test)\n",
    "    \n",
    "    # on affiche les résultats\n",
    "    # print(\"correct ones\", np.sum(predicted == Y_test))\n",
    "    # print(\"false ones\", np.sum(predicted != Y_test))\n",
    "    print(\"ratio:\", np.mean(predicted == Y_test))\n",
    "    \n",
    "    # on relance le pipeline pour afficher les frontières des régions\n",
    "    # la fonction plot_decision_regions à besoin des classes sous forme d'entiers\n",
    "    # d'ou le Y_as_int.\n",
    "    clf = pipeline.steps[0][1]\n",
    "    fig = plt.figure()\n",
    "    plt.title(pipeline_name)\n",
    "    #pipeline.fit(Xnorm, Y_as_int)\n",
    "    #plot_decision_regions(X=Xnorm, y=Y_as_int, clf=clf, legend=2, X_highlight=X_test)"
   ]
  },
  {
   "cell_type": "code",
   "execution_count": 2,
   "metadata": {},
   "outputs": [],
   "source": [
    "from keras.models import Sequential\n",
    "from keras.layers import Dense, Activation"
   ]
  },
  {
   "cell_type": "code",
   "execution_count": null,
   "metadata": {},
   "outputs": [],
   "source": [
    "img_rows, img_cols = 28, 28\n"
   ]
  }
 ],
 "metadata": {
  "kernelspec": {
   "display_name": "Python 3",
   "language": "python",
   "name": "python3"
  },
  "language_info": {
   "codemirror_mode": {
    "name": "ipython",
    "version": 3
   },
   "file_extension": ".py",
   "mimetype": "text/x-python",
   "name": "python",
   "nbconvert_exporter": "python",
   "pygments_lexer": "ipython3",
   "version": "3.5.3"
  }
 },
 "nbformat": 4,
 "nbformat_minor": 2
}
