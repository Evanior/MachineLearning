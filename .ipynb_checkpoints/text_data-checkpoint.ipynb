{
 "cells": [
  {
   "cell_type": "markdown",
   "metadata": {},
   "source": [
    "# Donnée textuelles\n",
    "\n",
    "Projet : classifier un document en fonction de sa langue.\n",
    "\n",
    "Problème de **classification** (et non de régression)\n",
    "\n",
    "## Etape 1\n",
    "- On choisit 2 classes : Anglais et Fançais\n",
    "- Récupérer les données.\n",
    "\n",
    "Mettre les données sous la forme d'un fichier texte avec premier caractère\n",
    "\n",
    "# Etape 2\n",
    "\n",
    "On veut transormer le corpus en vecteur d'entrée X.\n",
    "\n",
    "Le corpus c'est la liste des documents qui contiennent du texte.\n",
    "\n",
    "Les étapes pour vectoriser le texte sont:\n",
    "\n",
    "- enlever la ponctuation\n",
    "- enlever les nombres\n",
    "- enlever \"les trucs bizarres\" : reste balise html, \\\\ ...\n",
    "- on choisit si on travaille avec les mots ou avec les lettres\n",
    "- on choisit si on travaille avec 1-grams, 2-grams, etc.\n",
    "\n",
    "**TP**\n",
    "\n",
    "Ecrire une fonction qui lit un fichier et retourne les vercteur d'entrées et de sortie\n"
   ]
  },
  {
   "cell_type": "code",
   "execution_count": null,
   "metadata": {},
   "outputs": [],
   "source": [
    "from sklearn.feature_extraction.text import CountVectorizer\n",
    "\n",
    "NGRAM_RANGE = (1, 2)\n",
    "\n",
    "vectorizer = CountVectorizer(\n",
    "    input=\"content\",\n",
    "    analyzer=\"word\",\n",
    "    ngram_range=NGRAM_RANGE,\n",
    "    stop_words=None,\n",
    "    binary=True\n",
    ")\n",
    "\n",
    "# l'entrée\n",
    "raw_documents_vector = []\n",
    "\n",
    "# la sortie\n",
    "y_vector = []\n",
    "\n",
    "count_fr = 0\n",
    "count_en = 0\n",
    "\n",
    "for number in \"123\":\n",
    "    file_name = \"./data\"+number+\".txt\"\n",
    "    with open(file_name, \"rt\") as f:\n",
    "        for line in f:\n",
    "            y = line[0]\n",
    "            raw_document = line[2:]\n",
    "            \n",
    "            if y == \"0\":\n",
    "                count_en += 1 \n",
    "            if y == \"1\":\n",
    "                count_fr += 1 \n",
    "            \n",
    "            # je garde les données dans des listes\n",
    "            y_vector.append(int(y))\n",
    "            raw_documents_vector.append(raw_document)\n",
    "   \n",
    "print(\"document fr\", count_fr)\n",
    "vectorizer.fit(raw_documents_vector)\n",
    "print(\"document en\", count_en)"
   ]
  },
  {
   "cell_type": "code",
   "execution_count": null,
   "metadata": {},
   "outputs": [],
   "source": []
  }
 ],
 "metadata": {
  "kernelspec": {
   "display_name": "Python 3",
   "language": "python",
   "name": "python3"
  },
  "language_info": {
   "codemirror_mode": {
    "name": "ipython",
    "version": 3
   },
   "file_extension": ".py",
   "mimetype": "text/x-python",
   "name": "python",
   "nbconvert_exporter": "python",
   "pygments_lexer": "ipython3",
   "version": "3.5.3"
  }
 },
 "nbformat": 4,
 "nbformat_minor": 2
}
