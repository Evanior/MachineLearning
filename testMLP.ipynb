{
 "cells": [
  {
   "cell_type": "code",
   "execution_count": 1,
   "metadata": {},
   "outputs": [
    {
     "data": {
      "text/html": [
       "<div>\n",
       "<style scoped>\n",
       "    .dataframe tbody tr th:only-of-type {\n",
       "        vertical-align: middle;\n",
       "    }\n",
       "\n",
       "    .dataframe tbody tr th {\n",
       "        vertical-align: top;\n",
       "    }\n",
       "\n",
       "    .dataframe thead th {\n",
       "        text-align: right;\n",
       "    }\n",
       "</style>\n",
       "<table border=\"1\" class=\"dataframe\">\n",
       "  <thead>\n",
       "    <tr style=\"text-align: right;\">\n",
       "      <th></th>\n",
       "      <th>Unnamed: 0</th>\n",
       "      <th>0</th>\n",
       "      <th>1</th>\n",
       "      <th>2</th>\n",
       "      <th>3</th>\n",
       "      <th>4</th>\n",
       "      <th>5</th>\n",
       "      <th>6</th>\n",
       "      <th>7</th>\n",
       "      <th>8</th>\n",
       "      <th>...</th>\n",
       "      <th>760</th>\n",
       "      <th>761</th>\n",
       "      <th>762</th>\n",
       "      <th>763</th>\n",
       "      <th>764</th>\n",
       "      <th>765</th>\n",
       "      <th>766</th>\n",
       "      <th>767</th>\n",
       "      <th>y</th>\n",
       "      <th>pseudos</th>\n",
       "    </tr>\n",
       "  </thead>\n",
       "  <tbody>\n",
       "    <tr>\n",
       "      <th>0</th>\n",
       "      <td>0</td>\n",
       "      <td>185</td>\n",
       "      <td>174</td>\n",
       "      <td>176</td>\n",
       "      <td>210</td>\n",
       "      <td>265</td>\n",
       "      <td>300</td>\n",
       "      <td>326</td>\n",
       "      <td>280</td>\n",
       "      <td>287</td>\n",
       "      <td>...</td>\n",
       "      <td>128.0</td>\n",
       "      <td>108.0</td>\n",
       "      <td>111.0</td>\n",
       "      <td>121.0</td>\n",
       "      <td>113.0</td>\n",
       "      <td>95.0</td>\n",
       "      <td>87.0</td>\n",
       "      <td>325.0</td>\n",
       "      <td>like</td>\n",
       "      <td>tim</td>\n",
       "    </tr>\n",
       "    <tr>\n",
       "      <th>1</th>\n",
       "      <td>1</td>\n",
       "      <td>88</td>\n",
       "      <td>65</td>\n",
       "      <td>100</td>\n",
       "      <td>293</td>\n",
       "      <td>570</td>\n",
       "      <td>1109</td>\n",
       "      <td>1261</td>\n",
       "      <td>1600</td>\n",
       "      <td>2005</td>\n",
       "      <td>...</td>\n",
       "      <td>17.0</td>\n",
       "      <td>18.0</td>\n",
       "      <td>19.0</td>\n",
       "      <td>15.0</td>\n",
       "      <td>7.0</td>\n",
       "      <td>7.0</td>\n",
       "      <td>5.0</td>\n",
       "      <td>38.0</td>\n",
       "      <td>dislike</td>\n",
       "      <td>tim</td>\n",
       "    </tr>\n",
       "    <tr>\n",
       "      <th>2</th>\n",
       "      <td>2</td>\n",
       "      <td>73</td>\n",
       "      <td>117</td>\n",
       "      <td>157</td>\n",
       "      <td>118</td>\n",
       "      <td>86</td>\n",
       "      <td>80</td>\n",
       "      <td>85</td>\n",
       "      <td>52</td>\n",
       "      <td>31</td>\n",
       "      <td>...</td>\n",
       "      <td>115.0</td>\n",
       "      <td>142.0</td>\n",
       "      <td>179.0</td>\n",
       "      <td>295.0</td>\n",
       "      <td>339.0</td>\n",
       "      <td>348.0</td>\n",
       "      <td>138.0</td>\n",
       "      <td>337.0</td>\n",
       "      <td>like</td>\n",
       "      <td>tim</td>\n",
       "    </tr>\n",
       "    <tr>\n",
       "      <th>3</th>\n",
       "      <td>3</td>\n",
       "      <td>60</td>\n",
       "      <td>23</td>\n",
       "      <td>34</td>\n",
       "      <td>42</td>\n",
       "      <td>52</td>\n",
       "      <td>53</td>\n",
       "      <td>75</td>\n",
       "      <td>86</td>\n",
       "      <td>101</td>\n",
       "      <td>...</td>\n",
       "      <td>1.0</td>\n",
       "      <td>2.0</td>\n",
       "      <td>2.0</td>\n",
       "      <td>6.0</td>\n",
       "      <td>2.0</td>\n",
       "      <td>1.0</td>\n",
       "      <td>4.0</td>\n",
       "      <td>27.0</td>\n",
       "      <td>like</td>\n",
       "      <td>tim</td>\n",
       "    </tr>\n",
       "    <tr>\n",
       "      <th>4</th>\n",
       "      <td>4</td>\n",
       "      <td>158</td>\n",
       "      <td>84</td>\n",
       "      <td>120</td>\n",
       "      <td>207</td>\n",
       "      <td>456</td>\n",
       "      <td>782</td>\n",
       "      <td>976</td>\n",
       "      <td>1700</td>\n",
       "      <td>1587</td>\n",
       "      <td>...</td>\n",
       "      <td>293.0</td>\n",
       "      <td>259.0</td>\n",
       "      <td>322.0</td>\n",
       "      <td>451.0</td>\n",
       "      <td>346.0</td>\n",
       "      <td>616.0</td>\n",
       "      <td>534.0</td>\n",
       "      <td>2786.0</td>\n",
       "      <td>like</td>\n",
       "      <td>tim</td>\n",
       "    </tr>\n",
       "  </tbody>\n",
       "</table>\n",
       "<p>5 rows × 771 columns</p>\n",
       "</div>"
      ],
      "text/plain": [
       "   Unnamed: 0    0    1    2    3    4     5     6     7     8   ...     \\\n",
       "0           0  185  174  176  210  265   300   326   280   287   ...      \n",
       "1           1   88   65  100  293  570  1109  1261  1600  2005   ...      \n",
       "2           2   73  117  157  118   86    80    85    52    31   ...      \n",
       "3           3   60   23   34   42   52    53    75    86   101   ...      \n",
       "4           4  158   84  120  207  456   782   976  1700  1587   ...      \n",
       "\n",
       "     760    761    762    763    764    765    766     767        y  pseudos  \n",
       "0  128.0  108.0  111.0  121.0  113.0   95.0   87.0   325.0     like      tim  \n",
       "1   17.0   18.0   19.0   15.0    7.0    7.0    5.0    38.0  dislike      tim  \n",
       "2  115.0  142.0  179.0  295.0  339.0  348.0  138.0   337.0     like      tim  \n",
       "3    1.0    2.0    2.0    6.0    2.0    1.0    4.0    27.0     like      tim  \n",
       "4  293.0  259.0  322.0  451.0  346.0  616.0  534.0  2786.0     like      tim  \n",
       "\n",
       "[5 rows x 771 columns]"
      ]
     },
     "execution_count": 1,
     "metadata": {},
     "output_type": "execute_result"
    }
   ],
   "source": [
    "import pandas as pd\n",
    "\n",
    "df = pd.read_csv(\"projet_photo/data_x_y_rgb.csv\")\n",
    "df.head()"
   ]
  },
  {
   "cell_type": "code",
   "execution_count": 38,
   "metadata": {},
   "outputs": [
    {
     "name": "stdout",
     "output_type": "stream",
     "text": [
      "[1 0 1 ... 1 1 1]\n",
      "(3549, 768)\n"
     ]
    }
   ],
   "source": [
    "import numpy as np\n",
    "\n",
    "Y = df[\"y\"].values\n",
    "Y = np.delete(Y, 1565, axis=0)\n",
    "Y_as_int = np.empty(shape=Y.shape, dtype=int)\n",
    "for i,value in enumerate(Y):\n",
    "    if Y[i] == \"dislike\":\n",
    "        Y_as_int[i] = 0\n",
    "    else:\n",
    "        Y_as_int[i] = 1\n",
    "        \n",
    "print(Y_as_int)\n",
    "\n",
    "X = df.values[:, 1:769]\n",
    "X = np.delete(X, 1565, axis=0)\n",
    "Xnorm = np.empty(shape=X.shape)\n",
    "skiprow = 1565\n",
    "for ir, x in enumerate(X):\n",
    "    if ir != skiprow:\n",
    "        Xnorm[ir, :] = x/x.max()\n",
    "\n",
    "print(Xnorm.shape)"
   ]
  },
  {
   "cell_type": "code",
   "execution_count": 4,
   "metadata": {},
   "outputs": [
    {
     "data": {
      "image/png": "[encoded data removed]",
      "text/plain": [
       "<Figure size 432x288 with 1 Axes>"
      ]
     },
     "metadata": {},
     "output_type": "display_data"
    }
   ],
   "source": [
    "import matplotlib.pyplot as plt\n",
    "\n",
    "plt.figure()\n",
    "plt.plot(Xnorm[1, :])\n",
    "plt.show()"
   ]
  },
  {
   "cell_type": "code",
   "execution_count": 42,
   "metadata": {},
   "outputs": [
    {
     "name": "stdout",
     "output_type": "stream",
     "text": [
      "train (2839, 768)\n",
      "test (710, 768)\n",
      "--------------------------------------------------\n",
      "pipeline Naive Bayes Gaussian\n",
      "start training\n",
      "duration 0 secondes\n",
      "ratio: 0.5422535211267606\n",
      "--------------------------------------------------\n",
      "pipeline Linear SVC\n",
      "start training\n",
      "duration 8 secondes\n",
      "ratio: 0.5943661971830986\n",
      "--------------------------------------------------\n",
      "pipeline SVC kernel rbf\n",
      "start training\n",
      "duration 10 secondes\n",
      "ratio: 0.6338028169014085\n",
      "--------------------------------------------------\n",
      "pipeline SVC kernel poly d=1\n",
      "start training\n",
      "duration 9 secondes\n",
      "ratio: 0.6338028169014085\n",
      "--------------------------------------------------\n",
      "pipeline SVC kernel poly d=2\n",
      "start training\n",
      "duration 9 secondes\n",
      "ratio: 0.6338028169014085\n",
      "--------------------------------------------------\n",
      "pipeline KNN\n",
      "start training\n",
      "duration 0 secondes\n",
      "ratio: 0.6112676056338028\n",
      "--------------------------------------------------\n",
      "pipeline MLP\n",
      "start training\n",
      "duration 37 secondes\n",
      "ratio: 0.5704225352112676\n"
     ]
    },
    {
     "data": {
      "image/png": "[encoded data removed]",
      "text/plain": [
       "<Figure size 432x288 with 1 Axes>"
      ]
     },
     "metadata": {},
     "output_type": "display_data"
    },
    {
     "data": {
      "image/png": "[encoded data removed]",
      "text/plain": [
       "<Figure size 432x288 with 1 Axes>"
      ]
     },
     "metadata": {},
     "output_type": "display_data"
    },
    {
     "data": {
      "image/png": "[encoded data removed]",
      "text/plain": [
       "<Figure size 432x288 with 1 Axes>"
      ]
     },
     "metadata": {},
     "output_type": "display_data"
    },
    {
     "data": {
      "image/png": "[encoded data removed]",
      "text/plain": [
       "<Figure size 432x288 with 1 Axes>"
      ]
     },
     "metadata": {},
     "output_type": "display_data"
    },
    {
     "data": {
      "image/png": "[encoded data removed]",
      "text/plain": [
       "<Figure size 432x288 with 1 Axes>"
      ]
     },
     "metadata": {},
     "output_type": "display_data"
    },
    {
     "data": {
      "image/png": "[encoded data removed]",
      "text/plain": [
       "<Figure size 432x288 with 1 Axes>"
      ]
     },
     "metadata": {},
     "output_type": "display_data"
    },
    {
     "data": {
      "image/png": "[encoded data removed]",
      "text/plain": [
       "<Figure size 432x288 with 1 Axes>"
      ]
     },
     "metadata": {},
     "output_type": "display_data"
    }
   ],
   "source": [
    "from sklearn.feature_extraction.text import CountVectorizer, TfidfVectorizer\n",
    "from sklearn.naive_bayes import MultinomialNB, GaussianNB\n",
    "from sklearn.pipeline import Pipeline\n",
    "from sklearn.model_selection import train_test_split\n",
    "from sklearn.model_selection import cross_val_score\n",
    "from sklearn.svm import NuSVC, SVC, LinearSVC\n",
    "from sklearn.neural_network import MLPClassifier\n",
    "import numpy as np\n",
    "from datetime import datetime\n",
    "\n",
    "from mlxtend.plotting import plot_decision_regions\n",
    "import matplotlib.pyplot as plt\n",
    "\n",
    "# on test le naive bayes et les différents SVM\n",
    "from sklearn.neighbors import KNeighborsClassifier\n",
    "from sklearn.naive_bayes import GaussianNB\n",
    "\n",
    "#pca_2d = PCA(n_components=2)\n",
    "\n",
    "pipelines = [\n",
    "    # Pipeline([(\"PCA 2D\", pca_2d), (\"Naive Bayes Multinomial\", MultinomialNB())]), \n",
    "    Pipeline([(\"Naive Bayes Gaussian\", GaussianNB())]), \n",
    "    Pipeline([(\"Linear SVC\", LinearSVC())]),\n",
    "    Pipeline([(\"SVC kernel rbf\", SVC(kernel=\"rbf\"))]),\n",
    "    Pipeline([(\"SVC kernel poly d=1\", SVC(kernel=\"poly\", degree=1))]),\n",
    "    Pipeline([(\"SVC kernel poly d=2\", SVC(kernel=\"poly\", degree=2))]),\n",
    "    Pipeline([(\"KNN\", KNeighborsClassifier(n_neighbors=5, algorithm=\"kd_tree\"))]),\n",
    "    Pipeline([(\"MLP\", \n",
    "            MLPClassifier(hidden_layer_sizes=(300,), \n",
    "            activation=\"relu\", \n",
    "            solver=\"lbfgs\", \n",
    "            verbose=True))]),\n",
    "]\n",
    "\n",
    "# on divise l'échantillon\n",
    "X_train, X_test, Y_train, Y_test = train_test_split(\n",
    "    Xnorm, Y_as_int, \n",
    "    shuffle=True, test_size=0.2, train_size=None)\n",
    "\n",
    "print(\"train\", X_train.shape)\n",
    "print(\"test\", X_test.shape)\n",
    "    \n",
    "for i,pipeline in enumerate(pipelines):\n",
    "    print(\"-\"*50)\n",
    "    start = datetime.now()\n",
    "    pipeline_name = pipeline.steps[0][0]\n",
    "    print(\"pipeline\", pipeline_name)\n",
    "    print(\"start training\")\n",
    "    pipeline.fit(X_train, Y_train)\n",
    "    print(\"duration\", (datetime.now() - start).seconds, \"secondes\")\n",
    "    # on prédit sur l'échantillon de test\n",
    "    predicted = pipeline.predict(X_test)\n",
    "    \n",
    "    # on affiche les résultats\n",
    "    # print(\"correct ones\", np.sum(predicted == Y_test))\n",
    "    # print(\"false ones\", np.sum(predicted != Y_test))\n",
    "    print(\"ratio:\", np.mean(predicted == Y_test))\n",
    "    \n",
    "    # on relance le pipeline pour afficher les frontières des régions\n",
    "    # la fonction plot_decision_regions à besoin des classes sous forme d'entiers\n",
    "    # d'ou le Y_as_int.\n",
    "    clf = pipeline.steps[0][1]\n",
    "    fig = plt.figure()\n",
    "    plt.title(pipeline_name)\n",
    "    pipeline.fit(Xnorm, Y_as_int)\n",
    "    #plot_decision_regions(X=Xnorm, y=Y_as_int, clf=clf, legend=2, X_highlight=X_test)"
   ]
  },
  {
   "cell_type": "code",
   "execution_count": null,
   "metadata": {},
   "outputs": [],
   "source": []
  }
 ],
 "metadata": {
  "kernelspec": {
   "display_name": "Python 3",
   "language": "python",
   "name": "python3"
  },
  "language_info": {
   "codemirror_mode": {
    "name": "ipython",
    "version": 3
   },
   "file_extension": ".py",
   "mimetype": "text/x-python",
   "name": "python",
   "nbconvert_exporter": "python",
   "pygments_lexer": "ipython3",
   "version": "3.5.3"
  }
 },
 "nbformat": 4,
 "nbformat_minor": 2
}
