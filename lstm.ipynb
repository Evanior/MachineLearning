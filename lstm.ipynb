{
 "cells": [
  {
   "cell_type": "markdown",
   "metadata": {},
   "source": [
    "# Long Short Term Memory\n",
    "\n",
    "On teste sur les données:\n",
    "\n",
    "- des phrases Française et/ou Anglaises\n",
    "- du prix du bitcoin"
   ]
  },
  {
   "cell_type": "code",
   "execution_count": 48,
   "metadata": {},
   "outputs": [],
   "source": [
    "doc_file_path = \"../../MachineLearning/data3.txt\"\n",
    "\n",
    "def is_ascii(s):\n",
    "    return all(ord(c) < 128 for c in s)\n",
    "\n",
    "def clean_word(word):\n",
    "    return ''.join(c for c in word if c.isalnum())\n",
    "\n",
    "def clean_text(text):\n",
    "    output = str(text)\n",
    "    for c in \".,;:/\\\\'\\\"!?$€£*()[]{}#`ɨ-»«… ’<>\":\n",
    "        output = output.replace(c, \" \")\n",
    "    # for c in \"0123456789\":\n",
    "    #    output = output.replace(c, \"\")\n",
    "    return output.strip()\n",
    "\n",
    "# on concatene tous les documents du corpus\n",
    "from collections import Counter\n",
    "text = \"\"\n",
    "words_count = Counter()\n",
    "\n",
    "with open(doc_file_path, \"rt\") as f:\n",
    "    for i, line in enumerate(f.readlines()):\n",
    "        text = clean_text(line[1:])\n",
    "        # text = line[1:]\n",
    "        line_words = text.split(\" \")\n",
    "        line_words = [clean_word(word.lower()) for word in line_words if word != \"\"]\n",
    "        # union of global and local sets\n",
    "        words_count.update(line_words)"
   ]
  },
  {
   "cell_type": "code",
   "execution_count": 84,
   "metadata": {},
   "outputs": [
    {
     "name": "stdout",
     "output_type": "stream",
     "text": [
      "<class 'list'>\n"
     ]
    }
   ],
   "source": [
    "print(type(words_count.most_common(10)))\n"
   ]
  },
  {
   "cell_type": "code",
   "execution_count": 91,
   "metadata": {},
   "outputs": [
    {
     "data": {
      "image/png": "[encoded data removed]",
      "text/plain": [
       "<Figure size 432x288 with 1 Axes>"
      ]
     },
     "metadata": {},
     "output_type": "display_data"
    },
    {
     "name": "stdout",
     "output_type": "stream",
     "text": [
      "6015\n"
     ]
    }
   ],
   "source": [
    "import matplotlib.pyplot as plt\n",
    "\n",
    "words, counts = zip(*words_count.most_common(50))\n",
    "plt.bar(words, counts)\n",
    "plt.xticks(words, words, rotation='vertical')\n",
    "plt.show()\n",
    "print(words_count[\"ainsi\"])"
   ]
  },
  {
   "cell_type": "code",
   "execution_count": 103,
   "metadata": {},
   "outputs": [
    {
     "name": "stdout",
     "output_type": "stream",
     "text": [
      "nombre de mots uniques 293\n"
     ]
    }
   ],
   "source": [
    "vocabulary = set([w for w,count in words_count.items() if count > 1000])\n",
    "print(\"nombre de mots uniques\", len(vocabulary))"
   ]
  },
  {
   "cell_type": "code",
   "execution_count": 64,
   "metadata": {},
   "outputs": [
    {
     "name": "stdout",
     "output_type": "stream",
     "text": [
      "nombre de mots unique: 10000\n",
      "nombre de mots dans le corpus 3050156\n"
     ]
    }
   ],
   "source": [
    "# on contruit la liste des mots avec uniquement les mots les plus fréquents            \n",
    "words_list = []\n",
    "with open(doc_file_path, \"rt\") as f:\n",
    "    for i, line in enumerate(f.readlines()):\n",
    "        text = clean_text(line[1:])\n",
    "        # text = line[1:]\n",
    "        line_words = text.split(\" \")\n",
    "        line_words = [clean_word(word.lower()) for word in line_words if word in vocabulary and word != \"\"]        \n",
    "        #words_set |= set(line_words)\n",
    "        words_list.extend(line_words)\n",
    "words_set = vocabulary\n",
    "n_unique_words = len(words_set)\n",
    "print(\"nombre de mots unique:\", n_unique_words)\n",
    "print(\"nombre de mots dans le corpus\", len(words_list))\n"
   ]
  },
  {
   "cell_type": "code",
   "execution_count": 65,
   "metadata": {},
   "outputs": [],
   "source": [
    "# on crée des index\n",
    "word_index = {w:i for (i,w) in enumerate(words_set)}\n",
    "# index_word = {i:w for (i,w) in enumerate(words_set)}\n",
    "# del(words_set)"
   ]
  },
  {
   "cell_type": "code",
   "execution_count": 70,
   "metadata": {},
   "outputs": [],
   "source": [
    "# on construit les phrases pour l'apprentissage\n",
    "phrase_length = 4\n",
    "word_steps = 3\n",
    "# l'entrée\n",
    "phrases = []\n",
    "# la sortie\n",
    "next_words = []\n",
    "for i in range(0, len(words_list) - phrase_length, word_steps):\n",
    "    # on garde la phrase: entrée\n",
    "    phrases.append(words_list[i : i+phrase_length])\n",
    "    # on garde le mot suivant: sortie\n",
    "    next_words.append(words_list[i + phrase_length])"
   ]
  },
  {
   "cell_type": "code",
   "execution_count": 12,
   "metadata": {},
   "outputs": [],
   "source": [
    "del(words_list)"
   ]
  },
  {
   "cell_type": "code",
   "execution_count": 71,
   "metadata": {},
   "outputs": [
    {
     "name": "stdout",
     "output_type": "stream",
     "text": [
      "nombre de phrases: 1016718\n",
      "['roman', 'titre', 'original', 'est'] un\n",
      "['la', 'biologie', 'la', 'géométrie'] et\n",
      "['depuis', '1994', 'au', 'sein'] du\n",
      "['à', 'un', 'large', 'éventail'] de\n",
      "['un', 'durant', '10', 'minutes'] et\n",
      "['ou', 'fenêtres', 'également', 'appelées'] dans\n",
      "['vont', 'leurs', 'des', 'humains'] seront\n",
      "['du', 'est', 'limitrophe', 'des'] départements\n",
      "['savants', 'qui', 'lui', 'a'] un\n",
      "['va', 's', 'intégrer', 'au'] de\n",
      "['du', 'régime', 'des', 'quelques'] mois\n",
      "['roman', 'titre', 'original', 'est'] un\n"
     ]
    }
   ],
   "source": [
    "n_phrases = len(phrases)\n",
    "print(\"nombre de phrases:\", n_phrases)\n",
    "for i in range(n_phrases):\n",
    "    if i%100000 == 0:\n",
    "        print(phrases[i], next_words[i])\n",
    "print(phrases[0], next_words[0])"
   ]
  },
  {
   "cell_type": "code",
   "execution_count": 77,
   "metadata": {},
   "outputs": [
    {
     "name": "stdout",
     "output_type": "stream",
     "text": [
      "nombre de documents 10167\n",
      "nombre de mots par doc 4\n",
      "taille du vecteur de mot 10000\n",
      "nombre de points 406680000\n"
     ]
    },
    {
     "ename": "MemoryError",
     "evalue": "",
     "output_type": "error",
     "traceback": [
      "\u001b[0;31m---------------------------------------------------------------------------\u001b[0m",
      "\u001b[0;31mMemoryError\u001b[0m                               Traceback (most recent call last)",
      "\u001b[0;32m<ipython-input-77-7ab9120df5ca>\u001b[0m in \u001b[0;36m<module>\u001b[0;34m()\u001b[0m\n\u001b[1;32m      8\u001b[0m \u001b[0mY_shape\u001b[0m \u001b[0;34m=\u001b[0m \u001b[0;34m(\u001b[0m\u001b[0mn_phrases\u001b[0m\u001b[0;34m,\u001b[0m \u001b[0mn_unique_words\u001b[0m\u001b[0;34m)\u001b[0m\u001b[0;34m\u001b[0m\u001b[0m\n\u001b[1;32m      9\u001b[0m \u001b[0mX\u001b[0m \u001b[0;34m=\u001b[0m \u001b[0mnp\u001b[0m\u001b[0;34m.\u001b[0m\u001b[0mzeros\u001b[0m\u001b[0;34m(\u001b[0m\u001b[0mX_shape\u001b[0m\u001b[0;34m,\u001b[0m \u001b[0mdtype\u001b[0m\u001b[0;34m=\u001b[0m\u001b[0mbool\u001b[0m\u001b[0;34m)\u001b[0m\u001b[0;34m\u001b[0m\u001b[0m\n\u001b[0;32m---> 10\u001b[0;31m \u001b[0mY\u001b[0m \u001b[0;34m=\u001b[0m \u001b[0mnp\u001b[0m\u001b[0;34m.\u001b[0m\u001b[0mzeros\u001b[0m\u001b[0;34m(\u001b[0m\u001b[0mY_shape\u001b[0m\u001b[0;34m,\u001b[0m \u001b[0mdtype\u001b[0m\u001b[0;34m=\u001b[0m\u001b[0mbool\u001b[0m\u001b[0;34m)\u001b[0m\u001b[0;34m\u001b[0m\u001b[0m\n\u001b[0m\u001b[1;32m     11\u001b[0m \u001b[0;31m# on boucle sur les phrases et mot suivant\u001b[0m\u001b[0;34m\u001b[0m\u001b[0;34m\u001b[0m\u001b[0m\n\u001b[1;32m     12\u001b[0m \u001b[0;31m# pour vectoriser les données\u001b[0m\u001b[0;34m\u001b[0m\u001b[0;34m\u001b[0m\u001b[0m\n",
      "\u001b[0;31mMemoryError\u001b[0m: "
     ]
    }
   ],
   "source": [
    "# on vectorise les phrases et \"mot suivant\"\n",
    "import numpy as np\n",
    "X_shape = (int(n_phrases/100), phrase_length, n_unique_words)\n",
    "print(\"nombre de documents\", X_shape[0])\n",
    "print(\"nombre de mots par doc\", X_shape[1])\n",
    "print(\"taille du vecteur de mot\", X_shape[2])\n",
    "print(\"nombre de points\", X_shape[0] * X_shape[1] * X_shape[2])\n",
    "Y_shape = (n_phrases, n_unique_words)\n",
    "X = np.zeros(X_shape, dtype=bool)\n",
    "Y = np.zeros(Y_shape, dtype=bool)\n",
    "# on boucle sur les phrases et mot suivant\n",
    "# pour vectoriser les données\n",
    "for ip, phrase in enumerate(phrases):\n",
    "    for iw, word in enumerate(phrase):\n",
    "        X[ip, iw, word_index[word]] = 1\n",
    "    Y[ip, word_index[next_words[ip]]] = 1\n",
    "print(\"X\", X[0, 0, :])"
   ]
  },
  {
   "cell_type": "code",
   "execution_count": null,
   "metadata": {},
   "outputs": [],
   "source": []
  },
  {
   "cell_type": "code",
   "execution_count": null,
   "metadata": {},
   "outputs": [],
   "source": []
  },
  {
   "cell_type": "code",
   "execution_count": null,
   "metadata": {},
   "outputs": [],
   "source": []
  },
  {
   "cell_type": "code",
   "execution_count": null,
   "metadata": {},
   "outputs": [],
   "source": []
  },
  {
   "cell_type": "code",
   "execution_count": null,
   "metadata": {},
   "outputs": [],
   "source": []
  },
  {
   "cell_type": "code",
   "execution_count": null,
   "metadata": {},
   "outputs": [],
   "source": []
  }
 ],
 "metadata": {
  "kernelspec": {
   "display_name": "Python 3",
   "language": "python",
   "name": "python3"
  },
  "language_info": {
   "codemirror_mode": {
    "name": "ipython",
    "version": 3
   },
   "file_extension": ".py",
   "mimetype": "text/x-python",
   "name": "python",
   "nbconvert_exporter": "python",
   "pygments_lexer": "ipython3",
   "version": "3.6.3"
  }
 },
 "nbformat": 4,
 "nbformat_minor": 2
}
